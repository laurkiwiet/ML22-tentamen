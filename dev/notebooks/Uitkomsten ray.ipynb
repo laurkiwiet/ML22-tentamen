{
 "cells": [
  {
   "cell_type": "code",
   "execution_count": 1,
   "metadata": {},
   "outputs": [
    {
     "ename": "ImportError",
     "evalue": "cannot import name 'SearchSpace' from 'tentamen.settings' (/home/azureuser/code/ML22-tentamen/dev/notebooks/../../tentamen/settings.py)",
     "output_type": "error",
     "traceback": [
      "\u001b[0;31m---------------------------------------------------------------------------\u001b[0m",
      "\u001b[0;31mImportError\u001b[0m                               Traceback (most recent call last)",
      "Cell \u001b[0;32mIn[1], line 5\u001b[0m\n\u001b[1;32m      3\u001b[0m sys\u001b[39m.\u001b[39mpath\u001b[39m.\u001b[39minsert(\u001b[39m0\u001b[39m, \u001b[39m\"\u001b[39m\u001b[39m../..\u001b[39m\u001b[39m\"\u001b[39m)\n\u001b[1;32m      4\u001b[0m \u001b[39mfrom\u001b[39;00m \u001b[39mpathlib\u001b[39;00m \u001b[39mimport\u001b[39;00m Path\n\u001b[0;32m----> 5\u001b[0m \u001b[39mfrom\u001b[39;00m \u001b[39mtentamen\u001b[39;00m\u001b[39m.\u001b[39;00m\u001b[39msettings\u001b[39;00m \u001b[39mimport\u001b[39;00m SearchSpace\n",
      "\u001b[0;31mImportError\u001b[0m: cannot import name 'SearchSpace' from 'tentamen.settings' (/home/azureuser/code/ML22-tentamen/dev/notebooks/../../tentamen/settings.py)"
     ]
    }
   ],
   "source": [
    "import sys\n",
    "\n",
    "sys.path.insert(0, \"../..\")\n",
    "from pathlib import Path\n",
    "from tentamen.settings import SearchSpace"
   ]
  },
  {
   "cell_type": "code",
   "execution_count": 8,
   "metadata": {},
   "outputs": [
    {
     "name": "stderr",
     "output_type": "stream",
     "text": [
      "2023-01-25 14:13:54,784\tINFO worker.py:1370 -- Calling ray.init() again after it has already been called.\n",
      "2023-01-25 14:13:54,798\tINFO experiment_analysis.py:795 -- No `self.trials`. Drawing logdirs from checkpoint file. This may result in some information that is out of sync, as checkpointing is periodic.\n"
     ]
    }
   ],
   "source": [
    "tune_dir = Path(\"/home/azureuser/code/ML22-tentamen/logs/train_2023-01-25_13-51-10\")\n",
    "tune_dir.exists()\n",
    "\n",
    "from ray.tune import ExperimentAnalysis\n",
    "import ray\n",
    "\n",
    "ray.init(ignore_reinit_error=True)\n",
    "\n",
    "analysis = ExperimentAnalysis(tune_dir)"
   ]
  },
  {
   "cell_type": "code",
   "execution_count": 10,
   "metadata": {},
   "outputs": [
    {
     "data": {
      "text/plain": [
       "train_aef38e6f"
      ]
     },
     "execution_count": 10,
     "metadata": {},
     "output_type": "execute_result"
    }
   ],
   "source": [
    "analysis.get_best_trial(metric=\"test_loss\", mode=\"min\")\n",
    "\n",
    "# analysis.get_best_config(metric=\"Accuracy\", mode=\"max\")"
   ]
  }
 ],
 "metadata": {
  "kernelspec": {
   "display_name": "tentamen-ODJr_Lwd-py3.9",
   "language": "python",
   "name": "python3"
  },
  "language_info": {
   "codemirror_mode": {
    "name": "ipython",
    "version": 3
   },
   "file_extension": ".py",
   "mimetype": "text/x-python",
   "name": "python",
   "nbconvert_exporter": "python",
   "pygments_lexer": "ipython3",
   "version": "3.9.12"
  },
  "orig_nbformat": 4,
  "vscode": {
   "interpreter": {
    "hash": "fbef76b2a22da125a2b6c0bca10e57c7eee6aebc77cdd3b59e3c27f177e62e93"
   }
  }
 },
 "nbformat": 4,
 "nbformat_minor": 2
}
